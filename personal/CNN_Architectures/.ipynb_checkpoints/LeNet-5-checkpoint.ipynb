{
 "cells": [
  {
   "cell_type": "markdown",
   "id": "6b896446-cd63-45b8-b825-1265ff3d4929",
   "metadata": {},
   "source": [
    "# Code Implementation of LeNet-5 "
   ]
  },
  {
   "cell_type": "code",
   "execution_count": 3,
   "id": "5bfeb8b9",
   "metadata": {},
   "outputs": [],
   "source": [
    "import tensorflow as tf\n",
    "from tensorflow import keras\n",
    "from keras.layers import Dense, Flatten, Conv2D, MaxPooling2D, AveragePooling2D\n",
    "from keras.models import Sequential\n",
    "from keras.datasets import mnist\n",
    "from tensorflow.keras.utils import to_categorical, plot_model"
   ]
  },
  {
   "cell_type": "code",
   "execution_count": 4,
   "id": "9cb7c7fc",
   "metadata": {},
   "outputs": [],
   "source": [
    "# Loading Dataset\n",
    "(x_train, y_train),(x_test, y_test) = mnist.load_data()"
   ]
  },
  {
   "cell_type": "markdown",
   "id": "cf993cac",
   "metadata": {},
   "source": [
    "  # LeNet-5 Model Architecture "
   ]
  },
  {
   "cell_type": "code",
   "execution_count": 5,
   "id": "6aa683dc-047f-4a8c-a7b9-97300072255c",
   "metadata": {},
   "outputs": [],
   "source": [
    "model = Sequential()"
   ]
  },
  {
   "cell_type": "code",
   "execution_count": null,
   "id": "a7781995",
   "metadata": {},
   "outputs": [],
   "source": []
  }
 ],
 "metadata": {
  "kernelspec": {
   "display_name": "Python 3 (ipykernel)",
   "language": "python",
   "name": "python3"
  },
  "language_info": {
   "codemirror_mode": {
    "name": "ipython",
    "version": 3
   },
   "file_extension": ".py",
   "mimetype": "text/x-python",
   "name": "python",
   "nbconvert_exporter": "python",
   "pygments_lexer": "ipython3",
   "version": "3.12.8"
  }
 },
 "nbformat": 4,
 "nbformat_minor": 5
}
